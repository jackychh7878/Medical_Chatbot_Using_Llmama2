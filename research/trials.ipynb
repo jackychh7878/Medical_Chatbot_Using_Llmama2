{
 "cells": [
  {
   "cell_type": "code",
   "outputs": [
    {
     "name": "stdout",
     "output_type": "stream",
     "text": [
      "Requirement already satisfied: ctransformers==0.2.5 in c:\\users\\jacky\\anaconda3\\lib\\site-packages (from -r requirements.txt (line 1)) (0.2.5)\n",
      "Requirement already satisfied: sentence-transformers==2.2.2 in c:\\users\\jacky\\anaconda3\\lib\\site-packages (from -r requirements.txt (line 2)) (2.2.2)\n",
      "Requirement already satisfied: pinecone-client in c:\\users\\jacky\\anaconda3\\lib\\site-packages (from -r requirements.txt (line 3)) (3.2.2)\n",
      "Collecting langchain==0.0.225 (from -r requirements.txt (line 4))\n",
      "  Using cached langchain-0.0.225-py3-none-any.whl.metadata (13 kB)\n",
      "Requirement already satisfied: flask in c:\\users\\jacky\\anaconda3\\lib\\site-packages (from -r requirements.txt (line 5)) (2.2.5)\n",
      "Requirement already satisfied: pypdf in c:\\users\\jacky\\anaconda3\\lib\\site-packages (from -r requirements.txt (line 6)) (4.1.0)\n",
      "Requirement already satisfied: pymupdf in c:\\users\\jacky\\anaconda3\\lib\\site-packages (from -r requirements.txt (line 7)) (1.24.1)\n",
      "Requirement already satisfied: python-dotenv in c:\\users\\jacky\\anaconda3\\lib\\site-packages (from -r requirements.txt (line 8)) (0.21.0)\n",
      "Requirement already satisfied: huggingface-hub in c:\\users\\jacky\\anaconda3\\lib\\site-packages (from ctransformers==0.2.5->-r requirements.txt (line 1)) (0.22.2)\n",
      "Requirement already satisfied: transformers<5.0.0,>=4.6.0 in c:\\users\\jacky\\anaconda3\\lib\\site-packages (from sentence-transformers==2.2.2->-r requirements.txt (line 2)) (4.39.3)\n",
      "Requirement already satisfied: tqdm in c:\\users\\jacky\\anaconda3\\lib\\site-packages (from sentence-transformers==2.2.2->-r requirements.txt (line 2)) (4.65.0)\n",
      "Requirement already satisfied: torch>=1.6.0 in c:\\users\\jacky\\anaconda3\\lib\\site-packages (from sentence-transformers==2.2.2->-r requirements.txt (line 2)) (2.2.2)\n",
      "Requirement already satisfied: torchvision in c:\\users\\jacky\\anaconda3\\lib\\site-packages (from sentence-transformers==2.2.2->-r requirements.txt (line 2)) (0.17.2)\n",
      "Requirement already satisfied: numpy in c:\\users\\jacky\\anaconda3\\lib\\site-packages (from sentence-transformers==2.2.2->-r requirements.txt (line 2)) (1.26.4)\n",
      "Requirement already satisfied: scikit-learn in c:\\users\\jacky\\anaconda3\\lib\\site-packages (from sentence-transformers==2.2.2->-r requirements.txt (line 2)) (1.2.2)\n",
      "Requirement already satisfied: scipy in c:\\users\\jacky\\anaconda3\\lib\\site-packages (from sentence-transformers==2.2.2->-r requirements.txt (line 2)) (1.11.4)\n",
      "Requirement already satisfied: nltk in c:\\users\\jacky\\anaconda3\\lib\\site-packages (from sentence-transformers==2.2.2->-r requirements.txt (line 2)) (3.8.1)\n",
      "Requirement already satisfied: sentencepiece in c:\\users\\jacky\\anaconda3\\lib\\site-packages (from sentence-transformers==2.2.2->-r requirements.txt (line 2)) (0.2.0)\n",
      "Requirement already satisfied: PyYAML>=5.4.1 in c:\\users\\jacky\\anaconda3\\lib\\site-packages (from langchain==0.0.225->-r requirements.txt (line 4)) (6.0.1)\n",
      "Requirement already satisfied: SQLAlchemy<3,>=1.4 in c:\\users\\jacky\\anaconda3\\lib\\site-packages (from langchain==0.0.225->-r requirements.txt (line 4)) (2.0.25)\n",
      "Requirement already satisfied: aiohttp<4.0.0,>=3.8.3 in c:\\users\\jacky\\anaconda3\\lib\\site-packages (from langchain==0.0.225->-r requirements.txt (line 4)) (3.9.3)\n",
      "Requirement already satisfied: dataclasses-json<0.6.0,>=0.5.7 in c:\\users\\jacky\\anaconda3\\lib\\site-packages (from langchain==0.0.225->-r requirements.txt (line 4)) (0.5.14)\n",
      "Requirement already satisfied: langchainplus-sdk<0.0.21,>=0.0.20 in c:\\users\\jacky\\anaconda3\\lib\\site-packages (from langchain==0.0.225->-r requirements.txt (line 4)) (0.0.20)\n",
      "Requirement already satisfied: numexpr<3.0.0,>=2.8.4 in c:\\users\\jacky\\anaconda3\\lib\\site-packages (from langchain==0.0.225->-r requirements.txt (line 4)) (2.8.7)\n",
      "Requirement already satisfied: openapi-schema-pydantic<2.0,>=1.2 in c:\\users\\jacky\\anaconda3\\lib\\site-packages (from langchain==0.0.225->-r requirements.txt (line 4)) (1.2.4)\n",
      "Requirement already satisfied: pydantic<2,>=1 in c:\\users\\jacky\\anaconda3\\lib\\site-packages (from langchain==0.0.225->-r requirements.txt (line 4)) (1.10.12)\n",
      "Requirement already satisfied: requests<3,>=2 in c:\\users\\jacky\\anaconda3\\lib\\site-packages (from langchain==0.0.225->-r requirements.txt (line 4)) (2.31.0)\n",
      "Requirement already satisfied: tenacity<9.0.0,>=8.1.0 in c:\\users\\jacky\\anaconda3\\lib\\site-packages (from langchain==0.0.225->-r requirements.txt (line 4)) (8.2.2)\n",
      "Requirement already satisfied: certifi>=2019.11.17 in c:\\users\\jacky\\anaconda3\\lib\\site-packages (from pinecone-client->-r requirements.txt (line 3)) (2024.2.2)\n",
      "Requirement already satisfied: typing-extensions>=3.7.4 in c:\\users\\jacky\\anaconda3\\lib\\site-packages (from pinecone-client->-r requirements.txt (line 3)) (4.9.0)\n",
      "Requirement already satisfied: urllib3>=1.26.0 in c:\\users\\jacky\\anaconda3\\lib\\site-packages (from pinecone-client->-r requirements.txt (line 3)) (2.0.7)\n",
      "Requirement already satisfied: Werkzeug>=2.2.2 in c:\\users\\jacky\\anaconda3\\lib\\site-packages (from flask->-r requirements.txt (line 5)) (2.2.3)\n",
      "Requirement already satisfied: Jinja2>=3.0 in c:\\users\\jacky\\anaconda3\\lib\\site-packages (from flask->-r requirements.txt (line 5)) (3.1.3)\n",
      "Requirement already satisfied: itsdangerous>=2.0 in c:\\users\\jacky\\anaconda3\\lib\\site-packages (from flask->-r requirements.txt (line 5)) (2.0.1)\n",
      "Requirement already satisfied: click>=8.0 in c:\\users\\jacky\\anaconda3\\lib\\site-packages (from flask->-r requirements.txt (line 5)) (8.1.7)\n",
      "Requirement already satisfied: PyMuPDFb==1.24.1 in c:\\users\\jacky\\anaconda3\\lib\\site-packages (from pymupdf->-r requirements.txt (line 7)) (1.24.1)\n",
      "Requirement already satisfied: aiosignal>=1.1.2 in c:\\users\\jacky\\anaconda3\\lib\\site-packages (from aiohttp<4.0.0,>=3.8.3->langchain==0.0.225->-r requirements.txt (line 4)) (1.2.0)\n",
      "Requirement already satisfied: attrs>=17.3.0 in c:\\users\\jacky\\anaconda3\\lib\\site-packages (from aiohttp<4.0.0,>=3.8.3->langchain==0.0.225->-r requirements.txt (line 4)) (23.1.0)\n",
      "Requirement already satisfied: frozenlist>=1.1.1 in c:\\users\\jacky\\anaconda3\\lib\\site-packages (from aiohttp<4.0.0,>=3.8.3->langchain==0.0.225->-r requirements.txt (line 4)) (1.4.0)\n",
      "Requirement already satisfied: multidict<7.0,>=4.5 in c:\\users\\jacky\\anaconda3\\lib\\site-packages (from aiohttp<4.0.0,>=3.8.3->langchain==0.0.225->-r requirements.txt (line 4)) (6.0.4)\n",
      "Requirement already satisfied: yarl<2.0,>=1.0 in c:\\users\\jacky\\anaconda3\\lib\\site-packages (from aiohttp<4.0.0,>=3.8.3->langchain==0.0.225->-r requirements.txt (line 4)) (1.9.3)\n",
      "Requirement already satisfied: colorama in c:\\users\\jacky\\anaconda3\\lib\\site-packages (from click>=8.0->flask->-r requirements.txt (line 5)) (0.4.6)\n",
      "Requirement already satisfied: marshmallow<4.0.0,>=3.18.0 in c:\\users\\jacky\\anaconda3\\lib\\site-packages (from dataclasses-json<0.6.0,>=0.5.7->langchain==0.0.225->-r requirements.txt (line 4)) (3.21.1)\n",
      "Requirement already satisfied: typing-inspect<1,>=0.4.0 in c:\\users\\jacky\\anaconda3\\lib\\site-packages (from dataclasses-json<0.6.0,>=0.5.7->langchain==0.0.225->-r requirements.txt (line 4)) (0.9.0)\n",
      "Requirement already satisfied: filelock in c:\\users\\jacky\\anaconda3\\lib\\site-packages (from huggingface-hub->ctransformers==0.2.5->-r requirements.txt (line 1)) (3.13.1)\n",
      "Requirement already satisfied: fsspec>=2023.5.0 in c:\\users\\jacky\\anaconda3\\lib\\site-packages (from huggingface-hub->ctransformers==0.2.5->-r requirements.txt (line 1)) (2023.10.0)\n",
      "Requirement already satisfied: packaging>=20.9 in c:\\users\\jacky\\anaconda3\\lib\\site-packages (from huggingface-hub->ctransformers==0.2.5->-r requirements.txt (line 1)) (23.2)\n",
      "Requirement already satisfied: MarkupSafe>=2.0 in c:\\users\\jacky\\anaconda3\\lib\\site-packages (from Jinja2>=3.0->flask->-r requirements.txt (line 5)) (2.1.3)\n",
      "Requirement already satisfied: charset-normalizer<4,>=2 in c:\\users\\jacky\\anaconda3\\lib\\site-packages (from requests<3,>=2->langchain==0.0.225->-r requirements.txt (line 4)) (2.0.4)\n",
      "Requirement already satisfied: idna<4,>=2.5 in c:\\users\\jacky\\anaconda3\\lib\\site-packages (from requests<3,>=2->langchain==0.0.225->-r requirements.txt (line 4)) (3.4)\n",
      "Requirement already satisfied: greenlet!=0.4.17 in c:\\users\\jacky\\anaconda3\\lib\\site-packages (from SQLAlchemy<3,>=1.4->langchain==0.0.225->-r requirements.txt (line 4)) (3.0.1)\n",
      "Requirement already satisfied: sympy in c:\\users\\jacky\\anaconda3\\lib\\site-packages (from torch>=1.6.0->sentence-transformers==2.2.2->-r requirements.txt (line 2)) (1.12)\n",
      "Requirement already satisfied: networkx in c:\\users\\jacky\\anaconda3\\lib\\site-packages (from torch>=1.6.0->sentence-transformers==2.2.2->-r requirements.txt (line 2)) (3.1)\n",
      "Requirement already satisfied: regex!=2019.12.17 in c:\\users\\jacky\\anaconda3\\lib\\site-packages (from transformers<5.0.0,>=4.6.0->sentence-transformers==2.2.2->-r requirements.txt (line 2)) (2023.10.3)\n",
      "Requirement already satisfied: tokenizers<0.19,>=0.14 in c:\\users\\jacky\\anaconda3\\lib\\site-packages (from transformers<5.0.0,>=4.6.0->sentence-transformers==2.2.2->-r requirements.txt (line 2)) (0.15.2)\n",
      "Requirement already satisfied: safetensors>=0.4.1 in c:\\users\\jacky\\anaconda3\\lib\\site-packages (from transformers<5.0.0,>=4.6.0->sentence-transformers==2.2.2->-r requirements.txt (line 2)) (0.4.2)\n",
      "Requirement already satisfied: joblib in c:\\users\\jacky\\anaconda3\\lib\\site-packages (from nltk->sentence-transformers==2.2.2->-r requirements.txt (line 2)) (1.2.0)\n",
      "Requirement already satisfied: threadpoolctl>=2.0.0 in c:\\users\\jacky\\anaconda3\\lib\\site-packages (from scikit-learn->sentence-transformers==2.2.2->-r requirements.txt (line 2)) (2.2.0)\n",
      "Requirement already satisfied: pillow!=8.3.*,>=5.3.0 in c:\\users\\jacky\\anaconda3\\lib\\site-packages (from torchvision->sentence-transformers==2.2.2->-r requirements.txt (line 2)) (10.2.0)\n",
      "Requirement already satisfied: mypy-extensions>=0.3.0 in c:\\users\\jacky\\anaconda3\\lib\\site-packages (from typing-inspect<1,>=0.4.0->dataclasses-json<0.6.0,>=0.5.7->langchain==0.0.225->-r requirements.txt (line 4)) (1.0.0)\n",
      "Requirement already satisfied: mpmath>=0.19 in c:\\users\\jacky\\anaconda3\\lib\\site-packages (from sympy->torch>=1.6.0->sentence-transformers==2.2.2->-r requirements.txt (line 2)) (1.3.0)\n",
      "Using cached langchain-0.0.225-py3-none-any.whl (1.2 MB)\n",
      "Installing collected packages: langchain\n",
      "  Attempting uninstall: langchain\n",
      "    Found existing installation: langchain 0.1.14\n",
      "    Uninstalling langchain-0.1.14:\n",
      "      Successfully uninstalled langchain-0.1.14\n",
      "Successfully installed langchain-0.0.225\n"
     ]
    }
   ],
   "source": [
    "!pip install -r requirements.txt"
   ],
   "metadata": {
    "collapsed": false,
    "ExecuteTime": {
     "end_time": "2024-04-04T08:28:32.409709Z",
     "start_time": "2024-04-04T08:28:17.992575Z"
    }
   },
   "id": "f9884acb49b3fc6",
   "execution_count": 1
  },
  {
   "cell_type": "code",
   "outputs": [
    {
     "name": "stdout",
     "output_type": "stream",
     "text": [
      "Note: you may need to restart the kernel to use updated packages.\n"
     ]
    }
   ],
   "source": [
    "%pip install --upgrade --quiet  langchain-pinecone langchain-openai langchain"
   ],
   "metadata": {
    "collapsed": false,
    "ExecuteTime": {
     "end_time": "2024-04-04T08:28:47.290730Z",
     "start_time": "2024-04-04T08:28:32.414716Z"
    }
   },
   "id": "3e04ba93e0bf299f",
   "execution_count": 2
  },
  {
   "cell_type": "code",
   "outputs": [],
   "source": [
    "from langchain.chains import RetrievalQA\n",
    "from langchain.embeddings import HuggingFaceEmbeddings\n",
    "from langchain_pinecone import PineconeVectorStore\n",
    "from langchain.document_loaders import PyPDFLoader, DirectoryLoader\n",
    "from langchain.text_splitter import RecursiveCharacterTextSplitter\n",
    "from langchain.prompts import PromptTemplate\n",
    "from langchain.llms import CTransformers"
   ],
   "metadata": {
    "collapsed": true,
    "ExecuteTime": {
     "end_time": "2024-04-04T08:28:48.352211Z",
     "start_time": "2024-04-04T08:28:47.291738Z"
    }
   },
   "id": "initial_id",
   "execution_count": 3
  },
  {
   "cell_type": "code",
   "outputs": [],
   "source": [
    "import os\n",
    "from dotenv import load_dotenv\n",
    "load_dotenv()\n",
    "\n",
    "PINECONE_API_KEY = os.environ.get(\"PINECONE_API_KEY\")\n",
    "PINECONE_API_ENV = os.environ.get(\"PINECONE_API_ENV\")"
   ],
   "metadata": {
    "collapsed": false,
    "ExecuteTime": {
     "end_time": "2024-04-04T08:28:48.367835Z",
     "start_time": "2024-04-04T08:28:48.354296Z"
    }
   },
   "id": "30c27b9c23ac8d42",
   "execution_count": 4
  },
  {
   "cell_type": "code",
   "outputs": [],
   "source": [
    "#Extract data from the PDF\n",
    "def load_pdf(data):\n",
    "    loader = DirectoryLoader(data, \n",
    "                    glob=\"*.pdf\",\n",
    "                    loader_cls=PyPDFLoader)\n",
    "    \n",
    "    documents = loader.load()\n",
    "    return documents"
   ],
   "metadata": {
    "collapsed": false,
    "ExecuteTime": {
     "end_time": "2024-04-04T08:28:48.374380Z",
     "start_time": "2024-04-04T08:28:48.368913Z"
    }
   },
   "id": "457df5bf6bc75150",
   "execution_count": 5
  },
  {
   "cell_type": "code",
   "outputs": [],
   "source": [
    "extracted_data = load_pdf(\"data/\")"
   ],
   "metadata": {
    "collapsed": false,
    "ExecuteTime": {
     "end_time": "2024-04-04T08:29:04.281453Z",
     "start_time": "2024-04-04T08:28:48.377592Z"
    }
   },
   "id": "5934c3c9d14e223",
   "execution_count": 6
  },
  {
   "cell_type": "code",
   "outputs": [],
   "source": [
    "# Create text chunks\n",
    "def text_split(extracted_data):\n",
    "    text_splitter = RecursiveCharacterTextSplitter(chunk_size = 500, chunk_overlap = 20)\n",
    "    text_chunks = text_splitter.split_documents(extracted_data)\n",
    "    return text_chunks"
   ],
   "metadata": {
    "collapsed": false,
    "ExecuteTime": {
     "end_time": "2024-04-04T08:29:04.288064Z",
     "start_time": "2024-04-04T08:29:04.282566Z"
    }
   },
   "id": "bcc1f3a38ce031f9",
   "execution_count": 7
  },
  {
   "cell_type": "code",
   "outputs": [
    {
     "name": "stdout",
     "output_type": "stream",
     "text": [
      "length of my chunk: 7020\n"
     ]
    }
   ],
   "source": [
    "text_chunks = text_split(extracted_data)\n",
    "print(\"length of my chunk:\", len(text_chunks))"
   ],
   "metadata": {
    "collapsed": false,
    "ExecuteTime": {
     "end_time": "2024-04-04T08:29:04.440007Z",
     "start_time": "2024-04-04T08:29:04.289987Z"
    }
   },
   "id": "44c3eae5120a47d6",
   "execution_count": 8
  },
  {
   "cell_type": "code",
   "outputs": [],
   "source": [
    "# Download Embedding Model\n",
    "def download_hugging_face_embeddings():\n",
    "    embeddings = HuggingFaceEmbeddings(model_name=\"sentence-transformers/all-MiniLM-L6-v2\")\n",
    "    return embeddings"
   ],
   "metadata": {
    "collapsed": false,
    "ExecuteTime": {
     "end_time": "2024-04-04T08:29:04.445139Z",
     "start_time": "2024-04-04T08:29:04.441061Z"
    }
   },
   "id": "1c7347bd708c690b",
   "execution_count": 9
  },
  {
   "cell_type": "code",
   "outputs": [],
   "source": [
    "embeddings = download_hugging_face_embeddings()"
   ],
   "metadata": {
    "collapsed": false,
    "ExecuteTime": {
     "end_time": "2024-04-04T08:29:09.617948Z",
     "start_time": "2024-04-04T08:29:04.446397Z"
    }
   },
   "id": "614a7f9311b0a761",
   "execution_count": 10
  },
  {
   "cell_type": "code",
   "outputs": [],
   "source": [
    "index_name = \"medical-chatbot\""
   ],
   "metadata": {
    "collapsed": false,
    "ExecuteTime": {
     "end_time": "2024-04-04T08:29:09.625304Z",
     "start_time": "2024-04-04T08:29:09.618959Z"
    }
   },
   "id": "2b6c270981b449da",
   "execution_count": 11
  },
  {
   "cell_type": "code",
   "outputs": [],
   "source": [
    "# Upsert the data to Pinecone\n",
    "# docsearch = PineconeVectorStore.from_texts([t.page_content for t in text_chunks], embeddings, index_name=index_name)"
   ],
   "metadata": {
    "collapsed": false,
    "ExecuteTime": {
     "end_time": "2024-04-04T08:29:09.640137Z",
     "start_time": "2024-04-04T08:29:09.627766Z"
    }
   },
   "id": "4e7a41d5a74f1d6",
   "execution_count": 12
  },
  {
   "cell_type": "code",
   "outputs": [
    {
     "name": "stdout",
     "output_type": "stream",
     "text": [
      "Result [Document(page_content=\"GALE ENCYCLOPEDIA OF MEDICINE 2 117Allergies\\nAllergic rhinitis is commonly triggered by\\nexposure to household dust, animal fur,or pollen. The foreign substance thattriggers an allergic reaction is calledan allergen.\\nThe presence of an allergen causes the\\nbody's lymphocytes to begin producingIgE antibodies. The lymphocytes of an allergy sufferer produce an unusuallylarge amount of IgE.\\nIgE molecules attach to mast\\ncells, which contain histamine.HistaminePollen grains\\nLymphocyte\\nFIRST EXPOSURE\"), Document(page_content='allergens are the following:\\n• plant pollens\\n• animal fur and dander\\n• body parts from house mites (microscopic creatures\\nfound in all houses)\\n• house dust• mold spores• cigarette smoke• solvents• cleaners\\nCommon food allergens include the following:\\n• nuts, especially peanuts, walnuts, and brazil nuts\\n• fish, mollusks, and shellfish• eggs• wheat• milk• food additives and preservatives\\nThe following types of drugs commonly cause aller-\\ngic reactions:\\n• penicillin or other antibiotics'), Document(page_content='itchy, scratchy nose, eyes, and throat common in aller-gic rhinitis.\\nThe number of possible airborne allergens is enor-')]\n"
     ]
    }
   ],
   "source": [
    "docsearch_query = PineconeVectorStore.from_existing_index(index_name, embeddings)\n",
    "query = \"What are Allergies\"\n",
    "\n",
    "docs = docsearch_query.similarity_search(query, k=3)\n",
    "print(\"Result\", docs)"
   ],
   "metadata": {
    "collapsed": false,
    "ExecuteTime": {
     "end_time": "2024-04-04T08:29:12.661296Z",
     "start_time": "2024-04-04T08:29:09.642149Z"
    }
   },
   "id": "fcc4bd25812e4554",
   "execution_count": 13
  },
  {
   "cell_type": "code",
   "outputs": [],
   "source": [
    "prompt_template=\"\"\"\n",
    "Use the following pieces of information to answer the user's question.\n",
    "If you don't know the answer, just say that you don't know, don't try to make up an answer.\n",
    "\n",
    "Context: {context}\n",
    "Question: {question}\n",
    "\n",
    "Only return the helpful answer below and nothing else.\n",
    "Helpful answer:\n",
    "\"\"\""
   ],
   "metadata": {
    "collapsed": false,
    "ExecuteTime": {
     "end_time": "2024-04-04T08:29:12.688351Z",
     "start_time": "2024-04-04T08:29:12.666441Z"
    }
   },
   "id": "e7ee6a08ac94015a",
   "execution_count": 14
  },
  {
   "cell_type": "code",
   "outputs": [],
   "source": [
    "PROMPT=PromptTemplate(template=prompt_template, input_variables=[\"context\", \"question\"])\n",
    "chain_type_kwargs={\"prompt\": PROMPT}"
   ],
   "metadata": {
    "collapsed": false,
    "ExecuteTime": {
     "end_time": "2024-04-04T08:29:12.713579Z",
     "start_time": "2024-04-04T08:29:12.696604Z"
    }
   },
   "id": "5d64492bfafb61ef",
   "execution_count": 15
  },
  {
   "cell_type": "code",
   "outputs": [],
   "source": [
    "llm = CTransformers(model=\"model/llama-2-7b-chat.ggmlv3.q4_0.bin\", \n",
    "                  model_type=\"llama\", \n",
    "                  config={'max_new_tokens': 512, 'temperature': 0.8})"
   ],
   "metadata": {
    "collapsed": false,
    "ExecuteTime": {
     "end_time": "2024-04-04T08:29:13.187879Z",
     "start_time": "2024-04-04T08:29:12.718672Z"
    }
   },
   "id": "56eb4b7a6889aab3",
   "execution_count": 16
  },
  {
   "cell_type": "code",
   "outputs": [],
   "source": [
    "qa = RetrievalQA.from_chain_type(llm=llm,\n",
    "                                 chain_type=\"stuff\",\n",
    "                                 retriever=docsearch_query.as_retriever(search_kwargs={'k': 2}),\n",
    "                                 return_source_documents=True,\n",
    "                                 chain_type_kwargs=chain_type_kwargs\n",
    "                                 )"
   ],
   "metadata": {
    "collapsed": false,
    "ExecuteTime": {
     "end_time": "2024-04-04T08:29:13.193463Z",
     "start_time": "2024-04-04T08:29:13.189052Z"
    }
   },
   "id": "3c06fa285940fcd",
   "execution_count": 17
  },
  {
   "cell_type": "code",
   "outputs": [
    {
     "name": "stdout",
     "output_type": "stream",
     "text": [
      "Response :  Fever is a symptom of an underlying illness or infection. It is characterized by an elevated body temperature, usually above 100°F (37.8°C), and can be accompanied by other symptoms such as shivering, sweating, headache, fatigue, and muscle aches. The exact cause of fever depends on the underlying condition or infection that is causing it, but some common causes include viral or bacterial infections, autoimmune disorders, and allergic reactions. Treatment for fever usually involves addressing the underlying cause and managing symptoms with medication or other interventions.\n"
     ]
    }
   ],
   "source": [
    "user_input=input(f\"Input Prompt:\")\n",
    "result=qa({\"query\": user_input})\n",
    "print(\"Response : \", result[\"result\"])"
   ],
   "metadata": {
    "collapsed": false,
    "ExecuteTime": {
     "end_time": "2024-04-04T08:33:44.993220Z",
     "start_time": "2024-04-04T08:32:35.825534Z"
    }
   },
   "id": "c8afa18770e77ad7",
   "execution_count": 20
  },
  {
   "cell_type": "code",
   "outputs": [],
   "source": [],
   "metadata": {
    "collapsed": false
   },
   "id": "a883b75a9008e0cc"
  }
 ],
 "metadata": {
  "kernelspec": {
   "display_name": "Python 3",
   "language": "python",
   "name": "python3"
  },
  "language_info": {
   "codemirror_mode": {
    "name": "ipython",
    "version": 2
   },
   "file_extension": ".py",
   "mimetype": "text/x-python",
   "name": "python",
   "nbconvert_exporter": "python",
   "pygments_lexer": "ipython2",
   "version": "2.7.6"
  }
 },
 "nbformat": 4,
 "nbformat_minor": 5
}
